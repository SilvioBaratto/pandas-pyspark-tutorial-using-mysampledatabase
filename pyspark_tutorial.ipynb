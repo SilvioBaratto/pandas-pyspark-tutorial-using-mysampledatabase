{
 "cells": [
  {
   "cell_type": "code",
   "execution_count": 1,
   "metadata": {},
   "outputs": [],
   "source": [
    "import findspark\n",
    "findspark.init()"
   ]
  },
  {
   "cell_type": "code",
   "execution_count": 3,
   "metadata": {},
   "outputs": [],
   "source": [
    "from pyspark.sql import SparkSession\n",
    "from pyspark import SparkContext\n",
    "import numpy as np\n",
    "import pandas as pd\n",
    "from pyspark.sql import Row\n",
    "from pyspark.sql import functions as f\n",
    "\n",
    "spark = SparkSession \\\n",
    "    .builder \\\n",
    "    .appName(\"Python Spark SQL basic example\") \\\n",
    "    .config(\"spark.some.config.option\", \"some-value\") \\\n",
    "    .getOrCreate()"
   ]
  },
  {
   "cell_type": "code",
   "execution_count": 12,
   "metadata": {},
   "outputs": [],
   "source": [
    "customer = spark.read.option(\"header\", True).csv('classicmodels/csv/customer.csv').createOrReplaceTempView(\"customer\")\n",
    "order = spark.read.option(\"header\", True).csv('classicmodels/csv/order.csv').createOrReplaceTempView(\"order\")\n",
    "orderdetail = spark.read.option(\"header\", True).csv('classicmodels/csv/orderdetail.csv').createOrReplaceTempView(\"orderdetail\")\n",
    "employee = spark.read.option(\"header\", True).csv('classicmodels/csv/employee.csv').createOrReplaceTempView(\"employee\")\n",
    "product = spark.read.option(\"header\", True).csv('classicmodels/csv/product.csv').createOrReplaceTempView(\"product\")\n",
    "office = spark.read.option(\"header\", True).csv('classicmodels/csv/office.csv').createOrReplaceTempView(\"office\")"
   ]
  },
  {
   "attachments": {},
   "cell_type": "markdown",
   "metadata": {},
   "source": [
    "#### Mostra i modellini che costano meno di 75$"
   ]
  },
  {
   "cell_type": "code",
   "execution_count": 17,
   "metadata": {},
   "outputs": [
    {
     "name": "stdout",
     "output_type": "stream",
     "text": [
      "+-----+\n",
      "| MSRP|\n",
      "+-----+\n",
      "| 55.7|\n",
      "|53.91|\n",
      "|60.54|\n",
      "+-----+\n",
      "only showing top 3 rows\n",
      "\n"
     ]
    }
   ],
   "source": [
    "view = spark.sql(\"SELECT MSRP FROM product \\\n",
    "                WHERE MSRP < 75 \\\n",
    "\").show(3)"
   ]
  },
  {
   "attachments": {},
   "cell_type": "markdown",
   "metadata": {},
   "source": [
    "#### Mostra nome, prezzo di acquisto e di vendita dei modellini che costano meno di 75"
   ]
  },
  {
   "cell_type": "code",
   "execution_count": 18,
   "metadata": {},
   "outputs": [
    {
     "name": "stdout",
     "output_type": "stream",
     "text": [
      "+--------------------+--------+-----+\n",
      "|         productName|buyPrice| MSRP|\n",
      "+--------------------+--------+-----+\n",
      "|   1957 Chevy Pickup|    6125| 55.7|\n",
      "|1936 Mercedes-Ben...|   24.26|53.91|\n",
      "|  1911 Ford Town Car|    33.3|60.54|\n",
      "+--------------------+--------+-----+\n",
      "only showing top 3 rows\n",
      "\n"
     ]
    }
   ],
   "source": [
    "view = spark.sql(\"SELECT productName, buyPrice, MSRP FROM product \\\n",
    "                WHERE MSRP < 75 \\\n",
    "\").show(3)"
   ]
  },
  {
   "attachments": {},
   "cell_type": "markdown",
   "metadata": {},
   "source": [
    "#### Mostra tutti i dipendenti di nome Leslie"
   ]
  },
  {
   "cell_type": "code",
   "execution_count": 25,
   "metadata": {},
   "outputs": [
    {
     "name": "stdout",
     "output_type": "stream",
     "text": [
      "+---------+\n",
      "|firstName|\n",
      "+---------+\n",
      "|   Leslie|\n",
      "|   Leslie|\n",
      "+---------+\n",
      "\n"
     ]
    }
   ],
   "source": [
    "view = spark.sql(\"SELECT firstName FROM employee \\\n",
    "                WHERE firstName = 'Leslie' \\\n",
    "\").show(3)"
   ]
  },
  {
   "attachments": {},
   "cell_type": "markdown",
   "metadata": {},
   "source": [
    "#### Mostra tutti i dipendenti il cui nome finisce per \"Arry\" e davanti ha una sola lettera"
   ]
  },
  {
   "cell_type": "code",
   "execution_count": 30,
   "metadata": {},
   "outputs": [
    {
     "name": "stdout",
     "output_type": "stream",
     "text": [
      "+---------+\n",
      "|firstName|\n",
      "+---------+\n",
      "|    Larry|\n",
      "|    Barry|\n",
      "+---------+\n",
      "\n"
     ]
    }
   ],
   "source": [
    "view = spark.sql(\"SELECT firstName FROM employee \\\n",
    "                WHERE firstName LIKE '_arry' \\\n",
    "\").show(3)"
   ]
  },
  {
   "attachments": {},
   "cell_type": "markdown",
   "metadata": {},
   "source": [
    "#### Mostra tutti i prodotti che hanno una scala disivibile per 10 e minore di 100 (es: 1:10, 1:20, 1:30,...)"
   ]
  },
  {
   "cell_type": "code",
   "execution_count": 32,
   "metadata": {},
   "outputs": [
    {
     "name": "stdout",
     "output_type": "stream",
     "text": [
      "+-----------+--------------------+------------+\n",
      "|productCode|         productName|productScale|\n",
      "+-----------+--------------------+------------+\n",
      "|   S10_1678|1969 Harley David...|        1:10|\n",
      "|   S10_1949|1952 Alpine Renau...|        1:10|\n",
      "|   S10_2016|1996 Moto Guzzi 1...|        1:10|\n",
      "+-----------+--------------------+------------+\n",
      "only showing top 3 rows\n",
      "\n"
     ]
    }
   ],
   "source": [
    "view = spark.sql(\"SELECT productCode, productName, productScale FROM product \\\n",
    "                WHERE productScale LIKE '1:_0' \\\n",
    "\").show(3)"
   ]
  },
  {
   "attachments": {},
   "cell_type": "markdown",
   "metadata": {},
   "source": [
    "#### Mostra tutti i dipendenti il cui nome inizia con M e la cui terza lettera è una r"
   ]
  },
  {
   "cell_type": "code",
   "execution_count": 35,
   "metadata": {},
   "outputs": [
    {
     "name": "stdout",
     "output_type": "stream",
     "text": [
      "+---------+\n",
      "|firstName|\n",
      "+---------+\n",
      "|     Mary|\n",
      "|   Martin|\n",
      "+---------+\n",
      "\n"
     ]
    }
   ],
   "source": [
    "view = spark.sql(\"SELECT firstName FROM employee \\\n",
    "                WHERE firstName LIKE 'M_r%' \\\n",
    "\").show(3)"
   ]
  },
  {
   "attachments": {},
   "cell_type": "markdown",
   "metadata": {},
   "source": [
    "#### MOSTRA I MODELLINI CHE COSTANO MENO DI 75 E CHE ABBIAMO COMPRATO A PIÙ DI 30"
   ]
  },
  {
   "cell_type": "code",
   "execution_count": 40,
   "metadata": {},
   "outputs": [
    {
     "name": "stdout",
     "output_type": "stream",
     "text": [
      "+--------------------+--------+-----+\n",
      "|         productName|buyPrice| MSRP|\n",
      "+--------------------+--------+-----+\n",
      "|   1957 Chevy Pickup|    6125| 55.7|\n",
      "|  1911 Ford Town Car|    33.3|60.54|\n",
      "|  1934 Ford V8 Coupe|   34.35|62.46|\n",
      "|    1957 Vespa GS150|   32.95|62.17|\n",
      "|1957 Ford Thunder...|   34.21|71.27|\n",
      "+--------------------+--------+-----+\n",
      "only showing top 5 rows\n",
      "\n"
     ]
    }
   ],
   "source": [
    "view = spark.sql(\"SELECT productName, buyPrice, MSRP \\\n",
    "                FROM product \\\n",
    "                WHERE MSRP < 75 AND buyPrice > 30 \\\n",
    "\").show(5)"
   ]
  },
  {
   "attachments": {},
   "cell_type": "markdown",
   "metadata": {},
   "source": [
    "#### PRENDI TUTTI I DIPENDENTI IL CUI NOME INIZIA CON UNA LETTERA TRA B ED F"
   ]
  },
  {
   "cell_type": "code",
   "execution_count": 43,
   "metadata": {},
   "outputs": [
    {
     "name": "stdout",
     "output_type": "stream",
     "text": [
      "+---------+\n",
      "|firstName|\n",
      "+---------+\n",
      "| Foon Yue|\n",
      "|    Barry|\n",
      "+---------+\n",
      "\n"
     ]
    }
   ],
   "source": [
    "view = spark.sql(\"SELECT firstName FROM employee \\\n",
    "                WHERE firstName LIKE 'B%' OR firstName LIKE 'F%' \\\n",
    "\").show(3)"
   ]
  },
  {
   "attachments": {},
   "cell_type": "markdown",
   "metadata": {},
   "source": [
    "#### MOSTRA CODICE UFFICIO, CITTÀ E NUMERO DI TELEFONO DEGLI UFFICI IN FRANCIA O AMERICA"
   ]
  },
  {
   "cell_type": "code",
   "execution_count": 48,
   "metadata": {},
   "outputs": [
    {
     "name": "stdout",
     "output_type": "stream",
     "text": [
      "+----------+-------------+---------------+\n",
      "|officeCode|         city|          phone|\n",
      "+----------+-------------+---------------+\n",
      "|         1|San Francisco|+1 650 219 4782|\n",
      "|         2|       Boston|+1 215 837 0825|\n",
      "|         3|          NYC|+1 212 555 3000|\n",
      "+----------+-------------+---------------+\n",
      "only showing top 3 rows\n",
      "\n"
     ]
    }
   ],
   "source": [
    "view = spark.sql(\"SELECT officeCode, city, phone FROM office \\\n",
    "                WHERE country = 'France' OR country = 'USA' \\\n",
    "\").show(3)"
   ]
  },
  {
   "attachments": {},
   "cell_type": "markdown",
   "metadata": {},
   "source": [
    "#### MOSTRARE I MODELLINI DEL TIPO \"PLANES\",\"SHIPS\" O \"CLASSIC CARS\""
   ]
  },
  {
   "cell_type": "code",
   "execution_count": 51,
   "metadata": {},
   "outputs": [
    {
     "name": "stdout",
     "output_type": "stream",
     "text": [
      "+-----------+--------------------+------------+\n",
      "|productCode|         productName| productLine|\n",
      "+-----------+--------------------+------------+\n",
      "|   S10_1949|1952 Alpine Renau...|Classic Cars|\n",
      "|   S10_4757| 1972 Alfa Romeo GTA|Classic Cars|\n",
      "|   S10_4962|1962 LanciaA Delt...|Classic Cars|\n",
      "+-----------+--------------------+------------+\n",
      "only showing top 3 rows\n",
      "\n"
     ]
    }
   ],
   "source": [
    "view = spark.sql(\"SELECT productCode, productName, productLine FROM product \\\n",
    "                WHERE productLine = 'Planes' OR productLine = 'Ships' or productLine = 'Classic Cars' \\\n",
    "\").show(3)"
   ]
  },
  {
   "attachments": {},
   "cell_type": "markdown",
   "metadata": {},
   "source": [
    "#### MOSTRA GLI ORDINI NON SPEDITI"
   ]
  },
  {
   "cell_type": "code",
   "execution_count": 71,
   "metadata": {},
   "outputs": [
    {
     "name": "stdout",
     "output_type": "stream",
     "text": [
      "+-----------+---------+------------+-----------+------+--------+--------------+\n",
      "|orderNumber|orderDate|requiredDate|shippedDate|status|comments|customerNumber|\n",
      "+-----------+---------+------------+-----------+------+--------+--------------+\n",
      "+-----------+---------+------------+-----------+------+--------+--------------+\n",
      "\n"
     ]
    }
   ],
   "source": [
    "view = spark.sql(\"SELECT * FROM order \\\n",
    "                WHERE shippedDate IS NULL \\\n",
    "\").show(5)"
   ]
  },
  {
   "attachments": {},
   "cell_type": "markdown",
   "metadata": {},
   "source": [
    "#### MOSTRA I PREZZI DI VENDITA SENZA L’IVA (PREZZO / 1.22)"
   ]
  },
  {
   "cell_type": "code",
   "execution_count": 79,
   "metadata": {},
   "outputs": [
    {
     "name": "stdout",
     "output_type": "stream",
     "text": [
      "+--------------------+------------------+\n",
      "|         productName|       WITHOUT_IVA|\n",
      "+--------------------+------------------+\n",
      "|1969 Harley David...| 78.44262295081968|\n",
      "|1952 Alpine Renau...|175.65573770491804|\n",
      "|1996 Moto Guzzi 1...| 97.49180327868852|\n",
      "+--------------------+------------------+\n",
      "only showing top 3 rows\n",
      "\n"
     ]
    }
   ],
   "source": [
    "view = spark.sql(\"SELECT productName, (MSRP / 1.22) as WITHOUT_IVA \\\n",
    "                FROM product \\\n",
    "\").show(3)"
   ]
  },
  {
   "attachments": {},
   "cell_type": "markdown",
   "metadata": {},
   "source": [
    "#### MOSTRA I PRODOTTI CON UN MARGINE (PREZZO - PREZZO ACQUISTO) SUPERIORE A 50"
   ]
  },
  {
   "cell_type": "code",
   "execution_count": 81,
   "metadata": {},
   "outputs": [
    {
     "name": "stdout",
     "output_type": "stream",
     "text": [
      "+--------------------+------+--------+------------------+\n",
      "|         productName|  MSRP|buyPrice|           MARGINE|\n",
      "+--------------------+------+--------+------------------+\n",
      "|1969 Harley David...|  95.7|   48.81|             46.89|\n",
      "|1952 Alpine Renau...| 214.3|   98.58|115.72000000000001|\n",
      "|1996 Moto Guzzi 1...|118.94|   68.99|             49.95|\n",
      "+--------------------+------+--------+------------------+\n",
      "only showing top 3 rows\n",
      "\n"
     ]
    }
   ],
   "source": [
    "view = spark.sql(\"SELECT productName, MSRP, buyPrice, (MSRP - buyPrice) as MARGINE \\\n",
    "                FROM product \\\n",
    "\").show(3)"
   ]
  },
  {
   "attachments": {},
   "cell_type": "markdown",
   "metadata": {},
   "source": [
    "#### MOSTRA I PRODOTTI CON NOMI DI ALMENO 15 CARATTERI."
   ]
  },
  {
   "cell_type": "code",
   "execution_count": 86,
   "metadata": {},
   "outputs": [
    {
     "name": "stdout",
     "output_type": "stream",
     "text": [
      "+--------------------+\n",
      "|         productName|\n",
      "+--------------------+\n",
      "|1969 Harley David...|\n",
      "|1952 Alpine Renau...|\n",
      "|1996 Moto Guzzi 1...|\n",
      "+--------------------+\n",
      "only showing top 3 rows\n",
      "\n"
     ]
    }
   ],
   "source": [
    "view = spark.sql(\"SELECT productName FROM product \\\n",
    "                WHERE length(productName) > 15 \\\n",
    "\").show(3)"
   ]
  },
  {
   "attachments": {},
   "cell_type": "markdown",
   "metadata": {},
   "source": [
    "#### MOSTRA I PRODOTTI ORINATI NEL MESE DI GENNAIO"
   ]
  },
  {
   "cell_type": "code",
   "execution_count": 90,
   "metadata": {},
   "outputs": [
    {
     "name": "stdout",
     "output_type": "stream",
     "text": [
      "+-----------+----------+--------------+\n",
      "|orderNumber| orderDate|customerNumber|\n",
      "+-----------+----------+--------------+\n",
      "|      10100|2003-01-06|           363|\n",
      "|      10101|2003-01-09|           128|\n",
      "|      10102|2003-01-10|           181|\n",
      "+-----------+----------+--------------+\n",
      "only showing top 3 rows\n",
      "\n"
     ]
    }
   ],
   "source": [
    "view = spark.sql(\"SELECT orderNumber, orderDate, customerNumber \\\n",
    "                FROM order \\\n",
    "                WHERE month(orderDate) = 1 \\\n",
    "\").show(3)"
   ]
  },
  {
   "attachments": {},
   "cell_type": "markdown",
   "metadata": {},
   "source": [
    "#### MOSTRA I MODELLINI ORDINANDOLI PER PREZZO DI VENDITA CRESCENTE"
   ]
  },
  {
   "cell_type": "code",
   "execution_count": 98,
   "metadata": {},
   "outputs": [
    {
     "name": "stdout",
     "output_type": "stream",
     "text": [
      "+--------------------+---------------+\n",
      "|         productName|           MSRP|\n",
      "+--------------------+---------------+\n",
      "|The USS Constitut...| copper railing|\n",
      "|         The Titanic|         100.17|\n",
      "|Collectable Woode...|         100.84|\n",
      "+--------------------+---------------+\n",
      "only showing top 3 rows\n",
      "\n"
     ]
    }
   ],
   "source": [
    "view = spark.sql(\"SELECT productName, MSRP FROM product \\\n",
    "                ORDER BY MSRP \\\n",
    "    \").show(3)"
   ]
  },
  {
   "attachments": {},
   "cell_type": "markdown",
   "metadata": {},
   "source": [
    "#### MOSTRA I CLIENTI ORDINANDOLI PER PAESE CRESCENTE E CREDITO MASSIMO DECRESCENTE"
   ]
  },
  {
   "cell_type": "code",
   "execution_count": 100,
   "metadata": {},
   "outputs": [
    {
     "name": "stdout",
     "output_type": "stream",
     "text": [
      "+--------------------+--------------+---------+-----------+\n",
      "|        customerName|customerNumber|  country|creditLimit|\n",
      "+--------------------+--------------+---------+-----------+\n",
      "|  Kelly\\'s Gift Shop|           496|   110000|       null|\n",
      "|Souveniers And Th...|           282|Australia|      93300|\n",
      "|Australian Collec...|           471|Australia|      60300|\n",
      "+--------------------+--------------+---------+-----------+\n",
      "only showing top 3 rows\n",
      "\n"
     ]
    }
   ],
   "source": [
    "view = spark.sql(\"SELECT customerName, customerNumber, country, creditLimit \\\n",
    "                FROM customer \\\n",
    "                ORDER BY country, creditLimit DESC \\\n",
    "\").show(3)"
   ]
  },
  {
   "attachments": {},
   "cell_type": "markdown",
   "metadata": {},
   "source": [
    "#### MOSTRA I PRODOTTI VENDUTI A MENO DI 100€, METTENDO IN CIMA QUELLI CON IL MARGINE PIÙ ALTO"
   ]
  },
  {
   "cell_type": "code",
   "execution_count": 103,
   "metadata": {},
   "outputs": [
    {
     "name": "stdout",
     "output_type": "stream",
     "text": [
      "+-----------+--------------------+-----+\n",
      "|productCode|         productName| MSRP|\n",
      "+-----------+--------------------+-----+\n",
      "|   S32_1374|    1997 BMW F650 ST|99.89|\n",
      "|  S700_2466|America West Airl...|99.72|\n",
      "|  S700_3962|      The Queen Mary|99.31|\n",
      "+-----------+--------------------+-----+\n",
      "only showing top 3 rows\n",
      "\n"
     ]
    }
   ],
   "source": [
    "view = spark.sql(\"SELECT productCode, productName, MSRP \\\n",
    "                FROM product \\\n",
    "                WHERE MSRP < 100 \\\n",
    "                ORDER BY MSRP DESC\\\n",
    "\").show(3)"
   ]
  },
  {
   "attachments": {},
   "cell_type": "markdown",
   "metadata": {},
   "source": [
    "#### MOSTRA PER OGNI CLIENTE IL NOME DEL VENDITORE ASSOCIATO"
   ]
  },
  {
   "cell_type": "code",
   "execution_count": 104,
   "metadata": {},
   "outputs": [
    {
     "name": "stdout",
     "output_type": "stream",
     "text": [
      "+---------+---------+--------------------+\n",
      "|firstName| lastName|        customerName|\n",
      "+---------+---------+--------------------+\n",
      "|   Gerard|Hernandez|   Atelier graphique|\n",
      "|   Leslie| Thompson|  Signal Gift Stores|\n",
      "|     Andy|   Fixter|Australian Collec...|\n",
      "+---------+---------+--------------------+\n",
      "only showing top 3 rows\n",
      "\n"
     ]
    }
   ],
   "source": [
    "view = spark.sql(\"SELECT firstName, lastName, customerName \\\n",
    "                FROM customer \\\n",
    "                JOIN employee \\\n",
    "                ON employeeNumber = salesRepEmployeeNumber \\\n",
    "\").show(3)"
   ]
  },
  {
   "attachments": {},
   "cell_type": "markdown",
   "metadata": {},
   "source": [
    "#### MOSTRA TUTTI GLI IMPIEGATI E LA CITTÀ IN CUI SI TROVA L’UFFICIO CUI AFFERISCONO"
   ]
  },
  {
   "cell_type": "code",
   "execution_count": 109,
   "metadata": {},
   "outputs": [
    {
     "name": "stdout",
     "output_type": "stream",
     "text": [
      "+---------+---------+--------------+-------------+\n",
      "| lastName|firstName|employeeNumber|         city|\n",
      "+---------+---------+--------------+-------------+\n",
      "|   Murphy|    Diane|          1002|San Francisco|\n",
      "|Patterson|     Mary|          1056|San Francisco|\n",
      "| Firrelli|     Jeff|          1076|San Francisco|\n",
      "+---------+---------+--------------+-------------+\n",
      "only showing top 3 rows\n",
      "\n"
     ]
    }
   ],
   "source": [
    "view = spark.sql(\"SELECT lastName, firstName, employeeNumber, city \\\n",
    "                FROM employee \\\n",
    "                NATURAL JOIN office \\\n",
    "\").show(3)"
   ]
  },
  {
   "attachments": {},
   "cell_type": "markdown",
   "metadata": {},
   "source": [
    "#### MOSTRA TUTTI I CLIENTI; SE IL CLIENTE HA UN VENDITORE ASSOCIATO, MOSTRANE I DATI"
   ]
  },
  {
   "cell_type": "code",
   "execution_count": 119,
   "metadata": {},
   "outputs": [
    {
     "name": "stdout",
     "output_type": "stream",
     "text": [
      "+--------------------+---------+\n",
      "|        customerName| lastName|\n",
      "+--------------------+---------+\n",
      "|   Atelier graphique|Hernandez|\n",
      "|  Signal Gift Stores| Thompson|\n",
      "|Australian Collec...|   Fixter|\n",
      "+--------------------+---------+\n",
      "only showing top 3 rows\n",
      "\n"
     ]
    }
   ],
   "source": [
    "view = spark.sql(\"SELECT customerName, lastName \\\n",
    "                FROM customer \\\n",
    "                LEFT OUTER JOIN employee \\\n",
    "                ON employeeNumber = salesRepEmployeeNumber \\\n",
    "\").show(3)"
   ]
  },
  {
   "attachments": {},
   "cell_type": "markdown",
   "metadata": {},
   "source": [
    "#### MOSTRA TUTTI I CLIENTI ED I RELATIVI ORDINI, INCLUSI I CLIENTI CHE NON HANNO FATTO ORDINI"
   ]
  },
  {
   "cell_type": "code",
   "execution_count": 124,
   "metadata": {},
   "outputs": [
    {
     "name": "stdout",
     "output_type": "stream",
     "text": [
      "+--------------+--------------------+-----------+\n",
      "|customerNumber|        customerName|orderNumber|\n",
      "+--------------+--------------------+-----------+\n",
      "|           363|Online Diecast Cr...|      10100|\n",
      "|           128|Blauer See Auto, Co.|      10101|\n",
      "|           181|     Vitachrome Inc.|      10102|\n",
      "+--------------+--------------------+-----------+\n",
      "only showing top 3 rows\n",
      "\n"
     ]
    }
   ],
   "source": [
    "view = spark.sql(\"SELECT c.customerNumber, c.customerName, o.orderNumber \\\n",
    "                FROM customer c\\\n",
    "                RIGHT OUTER JOIN order o\\\n",
    "                on o.customerNumber = c.customerNumber \\\n",
    "\").show(3)"
   ]
  },
  {
   "attachments": {},
   "cell_type": "markdown",
   "metadata": {},
   "source": [
    "#### MOSTRA TUTTI I CLIENTI, IL NOME DELL’IMPIEGATO ASSOCIATO ED IL NUMERO DI TELEFONO DELL’UFFICIO"
   ]
  },
  {
   "cell_type": "code",
   "execution_count": 132,
   "metadata": {},
   "outputs": [
    {
     "name": "stdout",
     "output_type": "stream",
     "text": [
      "+--------------------+----------------+---------------+\n",
      "|        customerName|    employeeName|          phone|\n",
      "+--------------------+----------------+---------------+\n",
      "|   Atelier graphique|Hernandez Gerard|+33 14 723 4404|\n",
      "|  Signal Gift Stores| Thompson Leslie|+1 650 219 4782|\n",
      "|Australian Collec...|     Fixter Andy|+61 2 9264 2451|\n",
      "+--------------------+----------------+---------------+\n",
      "only showing top 3 rows\n",
      "\n"
     ]
    }
   ],
   "source": [
    "view = spark.sql(\"SELECT customerName, concat(lastName, ' ', firstName) as employeeName, o.phone \\\n",
    "                FROM customer c\\\n",
    "                LEFT JOIN employee e\\\n",
    "                ON c.salesRepEmployeeNumber = e.employeeNumber \\\n",
    "                LEFT JOIN office o\\\n",
    "                USING(officeCode) \\\n",
    "    \").show(3)"
   ]
  },
  {
   "attachments": {},
   "cell_type": "markdown",
   "metadata": {},
   "source": [
    "#### STAMPARE OGNI RIGA DELL’ORDINE, INDICANDO IL NOME DEL CLIENTE, NUMERO D’ORDINE ED IL NOME DEL PRODOTTO ORDINATO"
   ]
  },
  {
   "cell_type": "code",
   "execution_count": 145,
   "metadata": {},
   "outputs": [
    {
     "name": "stdout",
     "output_type": "stream",
     "text": [
      "+--------------------+-----------+--------------------+\n",
      "|        customerName|orderNumber|         productName|\n",
      "+--------------------+-----------+--------------------+\n",
      "|Online Diecast Cr...|      10100|1936 Mercedes Ben...|\n",
      "|Online Diecast Cr...|      10100|  1911 Ford Town Car|\n",
      "|Online Diecast Cr...|      10100|1917 Grand Tourin...|\n",
      "+--------------------+-----------+--------------------+\n",
      "only showing top 3 rows\n",
      "\n"
     ]
    }
   ],
   "source": [
    "view = spark.sql(\"SELECT customerName, orderNumber, productName \\\n",
    "                FROM order o\\\n",
    "                JOIN customer c \\\n",
    "                USING(customerNumber) \\\n",
    "                JOIN orderdetail od \\\n",
    "                USING(orderNumber) \\\n",
    "                JOIN product \\\n",
    "                USING(productCode) \\\n",
    "                ORDER BY o.orderNumber ASC, od.orderLineNumber \\\n",
    "\").show(3)"
   ]
  },
  {
   "attachments": {},
   "cell_type": "markdown",
   "metadata": {},
   "source": [
    "#### MOSTRA TUTTI I DIPENDENTI ED IL NOME DEL LORO CAPO"
   ]
  },
  {
   "cell_type": "code",
   "execution_count": 150,
   "metadata": {},
   "outputs": [
    {
     "name": "stdout",
     "output_type": "stream",
     "text": [
      "+--------------+---------+\n",
      "|  employeeName|reportsTo|\n",
      "+--------------+---------+\n",
      "|  Murphy Diane|     1002|\n",
      "|  Murphy Diane|     1002|\n",
      "|Patterson Mary|     1056|\n",
      "+--------------+---------+\n",
      "only showing top 3 rows\n",
      "\n"
     ]
    }
   ],
   "source": [
    "view = spark.sql(\"SELECT concat(tab1.lastName, ' ', tab1.firstName) as employeeName, tab2.reportsTo \\\n",
    "                FROM employee tab1\\\n",
    "                LEFT JOIN employee tab2 \\\n",
    "                ON tab1.employeeNumber = tab2.reportsTo \\\n",
    "    \").show(3)"
   ]
  },
  {
   "attachments": {},
   "cell_type": "markdown",
   "metadata": {},
   "source": [
    "#### MOSTRA TUTTE LE COPPIE DI CLIENTI CHE ABITANO NELLA STESSA CITTÀ"
   ]
  },
  {
   "cell_type": "code",
   "execution_count": 159,
   "metadata": {},
   "outputs": [
    {
     "name": "stdout",
     "output_type": "stream",
     "text": [
      "+--------------------+--------------------+---------+\n",
      "|        customerName|        customerName|     city|\n",
      "+--------------------+--------------------+---------+\n",
      "|   Atelier graphique|   La Rochelle Gifts|   Nantes|\n",
      "|   La Rochelle Gifts|   Atelier graphique|   Nantes|\n",
      "|Blauer See Auto, Co.|Messner Shopping ...|Frankfurt|\n",
      "+--------------------+--------------------+---------+\n",
      "only showing top 3 rows\n",
      "\n"
     ]
    }
   ],
   "source": [
    "view = spark.sql(\"SELECT tab1.customerName, tab2.customerName, tab1.city \\\n",
    "                FROM customer tab1\\\n",
    "                INNER JOIN customer tab2 \\\n",
    "                ON tab1.city = tab2.city AND tab1.customerName <> tab2.customerName\\\n",
    "    \").show(3)"
   ]
  },
  {
   "attachments": {},
   "cell_type": "markdown",
   "metadata": {},
   "source": [
    "#### MOSTRA TUTTI GLI STATI DEGLI ORDINI ESISTENTI"
   ]
  },
  {
   "cell_type": "code",
   "execution_count": 163,
   "metadata": {},
   "outputs": [
    {
     "name": "stdout",
     "output_type": "stream",
     "text": [
      "+---------+\n",
      "|   status|\n",
      "+---------+\n",
      "|  Shipped|\n",
      "|  On Hold|\n",
      "|Cancelled|\n",
      "+---------+\n",
      "only showing top 3 rows\n",
      "\n"
     ]
    }
   ],
   "source": [
    "view = spark.sql(\"SELECT status FROM order GROUP BY status\").show(3)"
   ]
  },
  {
   "attachments": {},
   "cell_type": "markdown",
   "metadata": {},
   "source": [
    "#### MOSTRA TUTTI GLI STATI DEGLI ORDINI FATTI PRIMA DEL 31/12/2003"
   ]
  },
  {
   "cell_type": "code",
   "execution_count": 171,
   "metadata": {},
   "outputs": [
    {
     "name": "stdout",
     "output_type": "stream",
     "text": [
      "+---------+\n",
      "|   status|\n",
      "+---------+\n",
      "|  Shipped|\n",
      "|Cancelled|\n",
      "| Resolved|\n",
      "+---------+\n",
      "\n"
     ]
    }
   ],
   "source": [
    "view = spark.sql(\"SELECT status \\\n",
    "                FROM order \\\n",
    "                WHERE orderDate < '2003-12-31' \\\n",
    "                GROUP BY status \\\n",
    "    \").show(3)"
   ]
  },
  {
   "attachments": {},
   "cell_type": "markdown",
   "metadata": {},
   "source": [
    "#### QUANTI CAPI CI SONO IN AZIENDA?"
   ]
  },
  {
   "cell_type": "code",
   "execution_count": 184,
   "metadata": {},
   "outputs": [
    {
     "name": "stdout",
     "output_type": "stream",
     "text": [
      "+----+\n",
      "|boss|\n",
      "+----+\n",
      "|   7|\n",
      "+----+\n",
      "\n"
     ]
    }
   ],
   "source": [
    "view = spark.sql(\"SELECT COUNT(DISTINCT reportsTo) as boss \\\n",
    "                FROM employee \\\n",
    "    \").show(3)"
   ]
  },
  {
   "attachments": {},
   "cell_type": "markdown",
   "metadata": {},
   "source": [
    "#### MOSTRA GLI STATI DEGLI ORDINI E QUANTI ORDINI SI TROVANO IN CIASCUNO STATO"
   ]
  },
  {
   "cell_type": "code",
   "execution_count": 185,
   "metadata": {},
   "outputs": [
    {
     "name": "stdout",
     "output_type": "stream",
     "text": [
      "+---------+------------------+\n",
      "|   status|count(orderNumber)|\n",
      "+---------+------------------+\n",
      "|  Shipped|               303|\n",
      "|  On Hold|                 4|\n",
      "|Cancelled|                 6|\n",
      "+---------+------------------+\n",
      "only showing top 3 rows\n",
      "\n"
     ]
    }
   ],
   "source": [
    "view = spark.sql(\"SELECT status, count(orderNumber) \\\n",
    "                FROM order \\\n",
    "                GROUP BY status \\\n",
    "    \").show(3)"
   ]
  },
  {
   "attachments": {},
   "cell_type": "markdown",
   "metadata": {},
   "source": [
    "#### MOSTRARE QUANTI ORDINI HO SPEDITO NEI VARI MESI (UNA RIGA PER MESE ED ANNO)"
   ]
  },
  {
   "cell_type": "code",
   "execution_count": 197,
   "metadata": {},
   "outputs": [
    {
     "name": "stdout",
     "output_type": "stream",
     "text": [
      "+-----------------+------------------+--------+\n",
      "|year(shippedDate)|month(shippedDate)|count(1)|\n",
      "+-----------------+------------------+--------+\n",
      "|             2005|                 5|       8|\n",
      "|             2004|                 6|       8|\n",
      "|             2003|                 2|       5|\n",
      "+-----------------+------------------+--------+\n",
      "only showing top 3 rows\n",
      "\n"
     ]
    }
   ],
   "source": [
    "view = spark.sql(\"SELECT year(shippedDate), month(shippedDate), COUNT(*) \\\n",
    "                FROM order \\\n",
    "                WHERE shippedDate IS NOT NULL \\\n",
    "                GROUP BY year(shippedDate), month(shippedDate)\\\n",
    "    \").show(3)"
   ]
  },
  {
   "attachments": {},
   "cell_type": "markdown",
   "metadata": {},
   "source": [
    "#### MOSTRARE I CLIENTI CHE NON HANNO FATTO ORDINI"
   ]
  },
  {
   "cell_type": "code",
   "execution_count": 198,
   "metadata": {},
   "outputs": [
    {
     "name": "stdout",
     "output_type": "stream",
     "text": [
      "+--------------------+\n",
      "|        customerName|\n",
      "+--------------------+\n",
      "|  Havel & Zbyszek Co|\n",
      "|American Souvenir...|\n",
      "|   Porto Imports Co.|\n",
      "+--------------------+\n",
      "only showing top 3 rows\n",
      "\n"
     ]
    }
   ],
   "source": [
    "view = spark.sql(\"SELECT customerName FROM customer \\\n",
    "                WHERE customerNumber NOT IN \\\n",
    "                    (SELECT DISTINCT customerNumber FROM order) \\\n",
    "\").show(3)"
   ]
  },
  {
   "attachments": {},
   "cell_type": "markdown",
   "metadata": {},
   "source": [
    "#### MOSTRARE IL NUMERO MASSIMO, MINIMO E MEDIO DI PEZZI INSERITI NEGLI ORDINI"
   ]
  },
  {
   "cell_type": "code",
   "execution_count": 204,
   "metadata": {},
   "outputs": [
    {
     "name": "stdout",
     "output_type": "stream",
     "text": [
      "+-----------+--------------------+--------------------+--------------------+\n",
      "|orderNumber|min(quantityOrdered)|max(quantityOrdered)|avg(quantityOrdered)|\n",
      "+-----------+--------------------+--------------------+--------------------+\n",
      "|      10100|                  22|                  50|               37.75|\n",
      "|      10101|                  25|                  46|                35.5|\n",
      "|      10102|                  39|                  41|                40.0|\n",
      "+-----------+--------------------+--------------------+--------------------+\n",
      "only showing top 3 rows\n",
      "\n"
     ]
    }
   ],
   "source": [
    "view = spark.sql(\"SELECT DISTINCT orderNumber, MIN(quantityOrdered), MAX(quantityOrdered), AVG(quantityOrdered) \\\n",
    "                FROM orderdetail \\\n",
    "                GROUP BY orderNumber \\\n",
    "                \").show(3)"
   ]
  },
  {
   "cell_type": "code",
   "execution_count": 207,
   "metadata": {},
   "outputs": [
    {
     "name": "stdout",
     "output_type": "stream",
     "text": [
      "+----------+----------+-----------------+\n",
      "|max(items)|min(items)|       avg(items)|\n",
      "+----------+----------+-----------------+\n",
      "|     717.0|      15.0|323.6687116564417|\n",
      "+----------+----------+-----------------+\n",
      "\n"
     ]
    }
   ],
   "source": [
    "view = spark.sql(\"SELECT max(items), min(items), avg(items) \\\n",
    "                FROM (SELECT orderNumber, SUM(quantityOrdered) as items FROM orderdetail  \\\n",
    "                    GROUP BY orderNumber) as lineitems \\\n",
    "    \").show(5)"
   ]
  },
  {
   "attachments": {},
   "cell_type": "markdown",
   "metadata": {},
   "source": [
    "#### MOSTRARE I PRODOTTI IL CUI PREZZO DI ACQUISTO E' SUPERIORE ALLA MEDIA DELLA LINEA CUI AFFERISCONO"
   ]
  },
  {
   "cell_type": "code",
   "execution_count": 223,
   "metadata": {},
   "outputs": [
    {
     "name": "stdout",
     "output_type": "stream",
     "text": [
      "+--------------------+--------+\n",
      "|         productName|buyPrice|\n",
      "+--------------------+--------+\n",
      "|1996 Moto Guzzi 1...|   68.99|\n",
      "|2003 Harley-David...|   91.02|\n",
      "|    2002 Suzuki XREO|   66.27|\n",
      "+--------------------+--------+\n",
      "only showing top 3 rows\n",
      "\n"
     ]
    }
   ],
   "source": [
    "view = spark.sql(\"SELECT productName, buyPrice \\\n",
    "                FROM product AS p\\\n",
    "                WHERE buyPrice > (SELECT AVG(buyPrice) \\\n",
    "                                    FROM product \\\n",
    "                                    WHERE productLine = p.productLine) \\\n",
    "\").show(3)"
   ]
  },
  {
   "cell_type": "code",
   "execution_count": 214,
   "metadata": {},
   "outputs": [
    {
     "name": "stdout",
     "output_type": "stream",
     "text": [
      "+------------------+----------------+\n",
      "|     avg(buyPrice)|     productLine|\n",
      "+------------------+----------------+\n",
      "| 50.68538461538461|     Motorcycles|\n",
      "|          46.06625|    Vintage Cars|\n",
      "|48.637499999999996|           Ships|\n",
      "| 608.0836363636363|Trucks and Buses|\n",
      "|173.01216216216213|    Classic Cars|\n",
      "+------------------+----------------+\n",
      "only showing top 5 rows\n",
      "\n"
     ]
    }
   ],
   "source": [
    "view = spark.sql(\"SELECT avg(buyPrice), productLine \\\n",
    "                FROM product \\\n",
    "                GROUP BY productLine \\\n",
    "    \").show(5)"
   ]
  }
 ],
 "metadata": {
  "kernelspec": {
   "display_name": "base",
   "language": "python",
   "name": "python3"
  },
  "language_info": {
   "codemirror_mode": {
    "name": "ipython",
    "version": 3
   },
   "file_extension": ".py",
   "mimetype": "text/x-python",
   "name": "python",
   "nbconvert_exporter": "python",
   "pygments_lexer": "ipython3",
   "version": "3.9.12"
  },
  "orig_nbformat": 4,
  "vscode": {
   "interpreter": {
    "hash": "8fadc5f936274309d5ca82691dfd61f89474af03c6ebe71b05790b9d22fb5245"
   }
  }
 },
 "nbformat": 4,
 "nbformat_minor": 2
}
